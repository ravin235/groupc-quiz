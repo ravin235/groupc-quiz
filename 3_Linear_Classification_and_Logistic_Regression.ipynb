{
  "cells": [
    {
      "cell_type": "markdown",
      "metadata": {
        "id": "view-in-github",
        "colab_type": "text"
      },
      "source": [
        "<a href=\"https://colab.research.google.com/github/ravin235/groupc-quiz/blob/main/3_Linear_Classification_and_Logistic_Regression.ipynb\" target=\"_parent\"><img src=\"https://colab.research.google.com/assets/colab-badge.svg\" alt=\"Open In Colab\"/></a>"
      ]
    },
    {
      "cell_type": "markdown",
      "id": "aba92c2d",
      "metadata": {
        "id": "aba92c2d"
      },
      "source": [
        "### Linear Classification and Logistic Regression"
      ]
    },
    {
      "cell_type": "code",
      "execution_count": 1,
      "id": "c86868c7",
      "metadata": {
        "id": "c86868c7"
      },
      "outputs": [],
      "source": [
        "#importing library for data preprocessing\n",
        "import numpy as np\n",
        "import pandas as pd\n",
        "import matplotlib.pyplot as plt\n",
        "import seaborn as sns"
      ]
    },
    {
      "cell_type": "code",
      "execution_count": 2,
      "id": "78935b08",
      "metadata": {
        "colab": {
          "base_uri": "https://localhost:8080/"
        },
        "id": "78935b08",
        "outputId": "267edb2b-e659-4f3a-c107-fafebe09697d"
      },
      "outputs": [
        {
          "output_type": "stream",
          "name": "stderr",
          "text": [
            "/usr/local/lib/python3.8/dist-packages/IPython/core/interactiveshell.py:3326: DtypeWarning: Columns (6) have mixed types.Specify dtype option on import or set low_memory=False.\n",
            "  exec(code_obj, self.user_global_ns, self.user_ns)\n"
          ]
        }
      ],
      "source": [
        "df = pd.read_csv('https://query.data.world/s/wh6j7rxy2hvrn4ml75ci62apk5hgae') "
      ]
    },
    {
      "cell_type": "code",
      "execution_count": 3,
      "id": "740a2ec9",
      "metadata": {
        "scrolled": true,
        "colab": {
          "base_uri": "https://localhost:8080/",
          "height": 424
        },
        "id": "740a2ec9",
        "outputId": "e625e4e4-3079-4840-e4a1-f31d41ff292e"
      },
      "outputs": [
        {
          "output_type": "execute_result",
          "data": {
            "text/plain": [
              "       country  year  country_code        record     crop_land  grazing_land  \\\n",
              "0      Armenia  1992             1    AreaPerCap  1.402924e-01  1.995463e-01   \n",
              "1      Armenia  1992             1     AreaTotHA  4.830000e+05  6.870000e+05   \n",
              "2      Armenia  1992             1  BiocapPerCap  1.598044e-01  1.352610e-01   \n",
              "3      Armenia  1992             1  BiocapTotGHA  5.501762e+05  4.656780e+05   \n",
              "4      Armenia  1992             1  EFConsPerCap  3.875102e-01  1.894622e-01   \n",
              "...        ...   ...           ...           ...           ...           ...   \n",
              "72181    World  2016          5001  BiocapTotGHA  3.984702e+09  1.504757e+09   \n",
              "72182    World  2016          5001  EFConsPerCap  5.336445e-01  1.402092e-01   \n",
              "72183    World  2016          5001  EFConsTotGHA  3.984702e+09  1.046937e+09   \n",
              "72184    World  2016          5001  EFProdPerCap  5.336445e-01  1.402092e-01   \n",
              "72185    World  2016          5001  EFProdTotGHA  3.984702e+09  1.046937e+09   \n",
              "\n",
              "        forest_land  fishing_ground  built_up_land        carbon  \\\n",
              "0       0.097188051    3.688847e-02   2.931995e-02  0.000000e+00   \n",
              "1            334600    1.270000e+05   1.009430e+05  0.000000e+00   \n",
              "2       0.084003213    1.374213e-02   3.339780e-02  0.000000e+00   \n",
              "3       289207.1078    4.731155e+04   1.149823e+05  0.000000e+00   \n",
              "4          1.26E-06    4.164833e-03   3.339780e-02  1.114093e+00   \n",
              "...             ...             ...            ...           ...   \n",
              "72181  5111762779.0    1.095445e+09   4.726163e+08  0.000000e+00   \n",
              "72182      0.273495    8.974253e-02   6.329435e-02  1.646235e+00   \n",
              "72183  2042179333.0    6.701039e+08   4.726163e+08  1.229237e+10   \n",
              "72184      0.273495    8.974253e-02   6.329435e-02  1.646235e+00   \n",
              "72185  2042179333.0    6.701039e+08   4.726163e+08  1.229237e+10   \n",
              "\n",
              "              total QScore  \n",
              "0      5.032351e-01     3A  \n",
              "1      1.732543e+06     3A  \n",
              "2      4.262086e-01     3A  \n",
              "3      1.467355e+06     3A  \n",
              "4      1.728629e+00     3A  \n",
              "...             ...    ...  \n",
              "72181  1.216928e+10     3A  \n",
              "72182  2.746619e+00     3A  \n",
              "72183  2.050891e+10     3A  \n",
              "72184  2.746619e+00     3A  \n",
              "72185  2.050891e+10     3A  \n",
              "\n",
              "[72186 rows x 12 columns]"
            ],
            "text/html": [
              "\n",
              "  <div id=\"df-1bd410dd-caaa-426e-8a89-2e5a52b275fd\">\n",
              "    <div class=\"colab-df-container\">\n",
              "      <div>\n",
              "<style scoped>\n",
              "    .dataframe tbody tr th:only-of-type {\n",
              "        vertical-align: middle;\n",
              "    }\n",
              "\n",
              "    .dataframe tbody tr th {\n",
              "        vertical-align: top;\n",
              "    }\n",
              "\n",
              "    .dataframe thead th {\n",
              "        text-align: right;\n",
              "    }\n",
              "</style>\n",
              "<table border=\"1\" class=\"dataframe\">\n",
              "  <thead>\n",
              "    <tr style=\"text-align: right;\">\n",
              "      <th></th>\n",
              "      <th>country</th>\n",
              "      <th>year</th>\n",
              "      <th>country_code</th>\n",
              "      <th>record</th>\n",
              "      <th>crop_land</th>\n",
              "      <th>grazing_land</th>\n",
              "      <th>forest_land</th>\n",
              "      <th>fishing_ground</th>\n",
              "      <th>built_up_land</th>\n",
              "      <th>carbon</th>\n",
              "      <th>total</th>\n",
              "      <th>QScore</th>\n",
              "    </tr>\n",
              "  </thead>\n",
              "  <tbody>\n",
              "    <tr>\n",
              "      <th>0</th>\n",
              "      <td>Armenia</td>\n",
              "      <td>1992</td>\n",
              "      <td>1</td>\n",
              "      <td>AreaPerCap</td>\n",
              "      <td>1.402924e-01</td>\n",
              "      <td>1.995463e-01</td>\n",
              "      <td>0.097188051</td>\n",
              "      <td>3.688847e-02</td>\n",
              "      <td>2.931995e-02</td>\n",
              "      <td>0.000000e+00</td>\n",
              "      <td>5.032351e-01</td>\n",
              "      <td>3A</td>\n",
              "    </tr>\n",
              "    <tr>\n",
              "      <th>1</th>\n",
              "      <td>Armenia</td>\n",
              "      <td>1992</td>\n",
              "      <td>1</td>\n",
              "      <td>AreaTotHA</td>\n",
              "      <td>4.830000e+05</td>\n",
              "      <td>6.870000e+05</td>\n",
              "      <td>334600</td>\n",
              "      <td>1.270000e+05</td>\n",
              "      <td>1.009430e+05</td>\n",
              "      <td>0.000000e+00</td>\n",
              "      <td>1.732543e+06</td>\n",
              "      <td>3A</td>\n",
              "    </tr>\n",
              "    <tr>\n",
              "      <th>2</th>\n",
              "      <td>Armenia</td>\n",
              "      <td>1992</td>\n",
              "      <td>1</td>\n",
              "      <td>BiocapPerCap</td>\n",
              "      <td>1.598044e-01</td>\n",
              "      <td>1.352610e-01</td>\n",
              "      <td>0.084003213</td>\n",
              "      <td>1.374213e-02</td>\n",
              "      <td>3.339780e-02</td>\n",
              "      <td>0.000000e+00</td>\n",
              "      <td>4.262086e-01</td>\n",
              "      <td>3A</td>\n",
              "    </tr>\n",
              "    <tr>\n",
              "      <th>3</th>\n",
              "      <td>Armenia</td>\n",
              "      <td>1992</td>\n",
              "      <td>1</td>\n",
              "      <td>BiocapTotGHA</td>\n",
              "      <td>5.501762e+05</td>\n",
              "      <td>4.656780e+05</td>\n",
              "      <td>289207.1078</td>\n",
              "      <td>4.731155e+04</td>\n",
              "      <td>1.149823e+05</td>\n",
              "      <td>0.000000e+00</td>\n",
              "      <td>1.467355e+06</td>\n",
              "      <td>3A</td>\n",
              "    </tr>\n",
              "    <tr>\n",
              "      <th>4</th>\n",
              "      <td>Armenia</td>\n",
              "      <td>1992</td>\n",
              "      <td>1</td>\n",
              "      <td>EFConsPerCap</td>\n",
              "      <td>3.875102e-01</td>\n",
              "      <td>1.894622e-01</td>\n",
              "      <td>1.26E-06</td>\n",
              "      <td>4.164833e-03</td>\n",
              "      <td>3.339780e-02</td>\n",
              "      <td>1.114093e+00</td>\n",
              "      <td>1.728629e+00</td>\n",
              "      <td>3A</td>\n",
              "    </tr>\n",
              "    <tr>\n",
              "      <th>...</th>\n",
              "      <td>...</td>\n",
              "      <td>...</td>\n",
              "      <td>...</td>\n",
              "      <td>...</td>\n",
              "      <td>...</td>\n",
              "      <td>...</td>\n",
              "      <td>...</td>\n",
              "      <td>...</td>\n",
              "      <td>...</td>\n",
              "      <td>...</td>\n",
              "      <td>...</td>\n",
              "      <td>...</td>\n",
              "    </tr>\n",
              "    <tr>\n",
              "      <th>72181</th>\n",
              "      <td>World</td>\n",
              "      <td>2016</td>\n",
              "      <td>5001</td>\n",
              "      <td>BiocapTotGHA</td>\n",
              "      <td>3.984702e+09</td>\n",
              "      <td>1.504757e+09</td>\n",
              "      <td>5111762779.0</td>\n",
              "      <td>1.095445e+09</td>\n",
              "      <td>4.726163e+08</td>\n",
              "      <td>0.000000e+00</td>\n",
              "      <td>1.216928e+10</td>\n",
              "      <td>3A</td>\n",
              "    </tr>\n",
              "    <tr>\n",
              "      <th>72182</th>\n",
              "      <td>World</td>\n",
              "      <td>2016</td>\n",
              "      <td>5001</td>\n",
              "      <td>EFConsPerCap</td>\n",
              "      <td>5.336445e-01</td>\n",
              "      <td>1.402092e-01</td>\n",
              "      <td>0.273495</td>\n",
              "      <td>8.974253e-02</td>\n",
              "      <td>6.329435e-02</td>\n",
              "      <td>1.646235e+00</td>\n",
              "      <td>2.746619e+00</td>\n",
              "      <td>3A</td>\n",
              "    </tr>\n",
              "    <tr>\n",
              "      <th>72183</th>\n",
              "      <td>World</td>\n",
              "      <td>2016</td>\n",
              "      <td>5001</td>\n",
              "      <td>EFConsTotGHA</td>\n",
              "      <td>3.984702e+09</td>\n",
              "      <td>1.046937e+09</td>\n",
              "      <td>2042179333.0</td>\n",
              "      <td>6.701039e+08</td>\n",
              "      <td>4.726163e+08</td>\n",
              "      <td>1.229237e+10</td>\n",
              "      <td>2.050891e+10</td>\n",
              "      <td>3A</td>\n",
              "    </tr>\n",
              "    <tr>\n",
              "      <th>72184</th>\n",
              "      <td>World</td>\n",
              "      <td>2016</td>\n",
              "      <td>5001</td>\n",
              "      <td>EFProdPerCap</td>\n",
              "      <td>5.336445e-01</td>\n",
              "      <td>1.402092e-01</td>\n",
              "      <td>0.273495</td>\n",
              "      <td>8.974253e-02</td>\n",
              "      <td>6.329435e-02</td>\n",
              "      <td>1.646235e+00</td>\n",
              "      <td>2.746619e+00</td>\n",
              "      <td>3A</td>\n",
              "    </tr>\n",
              "    <tr>\n",
              "      <th>72185</th>\n",
              "      <td>World</td>\n",
              "      <td>2016</td>\n",
              "      <td>5001</td>\n",
              "      <td>EFProdTotGHA</td>\n",
              "      <td>3.984702e+09</td>\n",
              "      <td>1.046937e+09</td>\n",
              "      <td>2042179333.0</td>\n",
              "      <td>6.701039e+08</td>\n",
              "      <td>4.726163e+08</td>\n",
              "      <td>1.229237e+10</td>\n",
              "      <td>2.050891e+10</td>\n",
              "      <td>3A</td>\n",
              "    </tr>\n",
              "  </tbody>\n",
              "</table>\n",
              "<p>72186 rows × 12 columns</p>\n",
              "</div>\n",
              "      <button class=\"colab-df-convert\" onclick=\"convertToInteractive('df-1bd410dd-caaa-426e-8a89-2e5a52b275fd')\"\n",
              "              title=\"Convert this dataframe to an interactive table.\"\n",
              "              style=\"display:none;\">\n",
              "        \n",
              "  <svg xmlns=\"http://www.w3.org/2000/svg\" height=\"24px\"viewBox=\"0 0 24 24\"\n",
              "       width=\"24px\">\n",
              "    <path d=\"M0 0h24v24H0V0z\" fill=\"none\"/>\n",
              "    <path d=\"M18.56 5.44l.94 2.06.94-2.06 2.06-.94-2.06-.94-.94-2.06-.94 2.06-2.06.94zm-11 1L8.5 8.5l.94-2.06 2.06-.94-2.06-.94L8.5 2.5l-.94 2.06-2.06.94zm10 10l.94 2.06.94-2.06 2.06-.94-2.06-.94-.94-2.06-.94 2.06-2.06.94z\"/><path d=\"M17.41 7.96l-1.37-1.37c-.4-.4-.92-.59-1.43-.59-.52 0-1.04.2-1.43.59L10.3 9.45l-7.72 7.72c-.78.78-.78 2.05 0 2.83L4 21.41c.39.39.9.59 1.41.59.51 0 1.02-.2 1.41-.59l7.78-7.78 2.81-2.81c.8-.78.8-2.07 0-2.86zM5.41 20L4 18.59l7.72-7.72 1.47 1.35L5.41 20z\"/>\n",
              "  </svg>\n",
              "      </button>\n",
              "      \n",
              "  <style>\n",
              "    .colab-df-container {\n",
              "      display:flex;\n",
              "      flex-wrap:wrap;\n",
              "      gap: 12px;\n",
              "    }\n",
              "\n",
              "    .colab-df-convert {\n",
              "      background-color: #E8F0FE;\n",
              "      border: none;\n",
              "      border-radius: 50%;\n",
              "      cursor: pointer;\n",
              "      display: none;\n",
              "      fill: #1967D2;\n",
              "      height: 32px;\n",
              "      padding: 0 0 0 0;\n",
              "      width: 32px;\n",
              "    }\n",
              "\n",
              "    .colab-df-convert:hover {\n",
              "      background-color: #E2EBFA;\n",
              "      box-shadow: 0px 1px 2px rgba(60, 64, 67, 0.3), 0px 1px 3px 1px rgba(60, 64, 67, 0.15);\n",
              "      fill: #174EA6;\n",
              "    }\n",
              "\n",
              "    [theme=dark] .colab-df-convert {\n",
              "      background-color: #3B4455;\n",
              "      fill: #D2E3FC;\n",
              "    }\n",
              "\n",
              "    [theme=dark] .colab-df-convert:hover {\n",
              "      background-color: #434B5C;\n",
              "      box-shadow: 0px 1px 3px 1px rgba(0, 0, 0, 0.15);\n",
              "      filter: drop-shadow(0px 1px 2px rgba(0, 0, 0, 0.3));\n",
              "      fill: #FFFFFF;\n",
              "    }\n",
              "  </style>\n",
              "\n",
              "      <script>\n",
              "        const buttonEl =\n",
              "          document.querySelector('#df-1bd410dd-caaa-426e-8a89-2e5a52b275fd button.colab-df-convert');\n",
              "        buttonEl.style.display =\n",
              "          google.colab.kernel.accessAllowed ? 'block' : 'none';\n",
              "\n",
              "        async function convertToInteractive(key) {\n",
              "          const element = document.querySelector('#df-1bd410dd-caaa-426e-8a89-2e5a52b275fd');\n",
              "          const dataTable =\n",
              "            await google.colab.kernel.invokeFunction('convertToInteractive',\n",
              "                                                     [key], {});\n",
              "          if (!dataTable) return;\n",
              "\n",
              "          const docLinkHtml = 'Like what you see? Visit the ' +\n",
              "            '<a target=\"_blank\" href=https://colab.research.google.com/notebooks/data_table.ipynb>data table notebook</a>'\n",
              "            + ' to learn more about interactive tables.';\n",
              "          element.innerHTML = '';\n",
              "          dataTable['output_type'] = 'display_data';\n",
              "          await google.colab.output.renderOutput(dataTable, element);\n",
              "          const docLink = document.createElement('div');\n",
              "          docLink.innerHTML = docLinkHtml;\n",
              "          element.appendChild(docLink);\n",
              "        }\n",
              "      </script>\n",
              "    </div>\n",
              "  </div>\n",
              "  "
            ]
          },
          "metadata": {},
          "execution_count": 3
        }
      ],
      "source": [
        "df"
      ]
    },
    {
      "cell_type": "code",
      "execution_count": 4,
      "id": "ef80d64e",
      "metadata": {
        "colab": {
          "base_uri": "https://localhost:8080/"
        },
        "id": "ef80d64e",
        "outputId": "eb0defa5-3383-4e78-dd40-7cfbb4f718be"
      },
      "outputs": [
        {
          "output_type": "execute_result",
          "data": {
            "text/plain": [
              "0        3A\n",
              "1        3A\n",
              "2        3A\n",
              "3        3A\n",
              "4        3A\n",
              "         ..\n",
              "72181    3A\n",
              "72182    3A\n",
              "72183    3A\n",
              "72184    3A\n",
              "72185    3A\n",
              "Name: QScore, Length: 72186, dtype: object"
            ]
          },
          "metadata": {},
          "execution_count": 4
        }
      ],
      "source": [
        "df['QScore']"
      ]
    },
    {
      "cell_type": "code",
      "execution_count": 5,
      "id": "8f6e8653",
      "metadata": {
        "colab": {
          "base_uri": "https://localhost:8080/"
        },
        "id": "8f6e8653",
        "outputId": "99375543-61ab-4ecc-ba6a-c83f1176e199"
      },
      "outputs": [
        {
          "output_type": "execute_result",
          "data": {
            "text/plain": [
              "3A    51481\n",
              "2A    10576\n",
              "2B    10096\n",
              "1A       16\n",
              "1B       16\n",
              "Name: QScore, dtype: int64"
            ]
          },
          "metadata": {},
          "execution_count": 5
        }
      ],
      "source": [
        "#check distribution of target variable\n",
        "df['QScore'].value_counts()"
      ]
    },
    {
      "cell_type": "code",
      "execution_count": 6,
      "id": "f053c505",
      "metadata": {
        "colab": {
          "base_uri": "https://localhost:8080/"
        },
        "id": "f053c505",
        "outputId": "f8191795-8be8-4db6-c862-3a4ace9a6cb0"
      },
      "outputs": [
        {
          "output_type": "execute_result",
          "data": {
            "text/plain": [
              "country               0\n",
              "year                  0\n",
              "country_code          0\n",
              "record                0\n",
              "crop_land         20472\n",
              "grazing_land      20472\n",
              "forest_land       20472\n",
              "fishing_ground    20473\n",
              "built_up_land     20473\n",
              "carbon            20473\n",
              "total                 9\n",
              "QScore                1\n",
              "dtype: int64"
            ]
          },
          "metadata": {},
          "execution_count": 6
        }
      ],
      "source": [
        "df.isna().sum()"
      ]
    },
    {
      "cell_type": "code",
      "execution_count": 7,
      "id": "a2b512d1",
      "metadata": {
        "id": "a2b512d1"
      },
      "outputs": [],
      "source": [
        "#for simplicity, we will drop the rows with missing values.\n",
        "df = df.dropna()"
      ]
    },
    {
      "cell_type": "code",
      "execution_count": 8,
      "id": "f14d65b1",
      "metadata": {
        "colab": {
          "base_uri": "https://localhost:8080/"
        },
        "id": "f14d65b1",
        "outputId": "189145a6-127f-45ae-904a-0722575b7145"
      },
      "outputs": [
        {
          "output_type": "execute_result",
          "data": {
            "text/plain": [
              "country           0\n",
              "year              0\n",
              "country_code      0\n",
              "record            0\n",
              "crop_land         0\n",
              "grazing_land      0\n",
              "forest_land       0\n",
              "fishing_ground    0\n",
              "built_up_land     0\n",
              "carbon            0\n",
              "total             0\n",
              "QScore            0\n",
              "dtype: int64"
            ]
          },
          "metadata": {},
          "execution_count": 8
        }
      ],
      "source": [
        "df.isna().sum()"
      ]
    },
    {
      "cell_type": "code",
      "execution_count": 9,
      "id": "cf3d57ba",
      "metadata": {
        "colab": {
          "base_uri": "https://localhost:8080/"
        },
        "id": "cf3d57ba",
        "outputId": "df420ce3-b4cb-4b1f-eff0-f92bf5c3c4bc"
      },
      "outputs": [
        {
          "output_type": "execute_result",
          "data": {
            "text/plain": [
              "0        3A\n",
              "1        3A\n",
              "2        3A\n",
              "3        3A\n",
              "4        3A\n",
              "         ..\n",
              "72181    3A\n",
              "72182    3A\n",
              "72183    3A\n",
              "72184    3A\n",
              "72185    3A\n",
              "Name: QScore, Length: 51713, dtype: object"
            ]
          },
          "metadata": {},
          "execution_count": 9
        }
      ],
      "source": [
        "df['QScore']"
      ]
    },
    {
      "cell_type": "code",
      "execution_count": 10,
      "id": "d05bcd0a",
      "metadata": {
        "colab": {
          "base_uri": "https://localhost:8080/"
        },
        "id": "d05bcd0a",
        "outputId": "563ae94c-2d40-4d66-ba05-1b6956b7f424"
      },
      "outputs": [
        {
          "output_type": "execute_result",
          "data": {
            "text/plain": [
              "3A    51473\n",
              "2A      224\n",
              "1A       16\n",
              "Name: QScore, dtype: int64"
            ]
          },
          "metadata": {},
          "execution_count": 10
        }
      ],
      "source": [
        "df['QScore'].value_counts()"
      ]
    },
    {
      "cell_type": "code",
      "execution_count": 11,
      "id": "15e9b350",
      "metadata": {
        "colab": {
          "base_uri": "https://localhost:8080/"
        },
        "id": "15e9b350",
        "outputId": "e5fb4465-3c71-4c81-f921-4cf49177d625"
      },
      "outputs": [
        {
          "output_type": "stream",
          "name": "stderr",
          "text": [
            "<ipython-input-11-98a49813def8>:8: SettingWithCopyWarning: \n",
            "A value is trying to be set on a copy of a slice from a DataFrame.\n",
            "Try using .loc[row_indexer,col_indexer] = value instead\n",
            "\n",
            "See the caveats in the documentation: https://pandas.pydata.org/pandas-docs/stable/user_guide/indexing.html#returning-a-view-versus-a-copy\n",
            "  df['QScore'] = df['QScore'].replace(['1A'], '2A')\n"
          ]
        },
        {
          "output_type": "execute_result",
          "data": {
            "text/plain": [
              "3A    51473\n",
              "2A      240\n",
              "Name: QScore, dtype: int64"
            ]
          },
          "metadata": {},
          "execution_count": 11
        }
      ],
      "source": [
        "#An obvious change in our target variable after removing the missing values is that there are only three classes left \n",
        "#and from the distribution of the 3 classes, we can see that\n",
        "#there is an obvious imbalance between the classes. #There are methods that can be applied to\n",
        "#handle this imbalance such as oversampling and undersampling.\n",
        "#Oversampling involves increasing the number of instances in the class with fewer instances while undersampling \n",
        "#involves reducing the data points in the class with more instances.\n",
        "#For now, we will convert this to a binary classification problem by combining class '2A'and '1A'.\n",
        "df['QScore'] = df['QScore'].replace(['1A'], '2A')\n",
        "df['QScore'].value_counts()"
      ]
    },
    {
      "cell_type": "code",
      "execution_count": 12,
      "id": "45cbc3e4",
      "metadata": {
        "id": "45cbc3e4"
      },
      "outputs": [],
      "source": [
        "df_2A = df[df.QScore=='2A']\n",
        "df_3A = df[df.QScore=='3A'].sample(350)\n",
        "data_df = df_2A.append(df_3A)\n",
        "#data_df"
      ]
    },
    {
      "cell_type": "code",
      "execution_count": 13,
      "id": "702f817e",
      "metadata": {
        "colab": {
          "base_uri": "https://localhost:8080/",
          "height": 424
        },
        "id": "702f817e",
        "outputId": "33b3505b-d964-4d01-9d6e-8a46510288d6"
      },
      "outputs": [
        {
          "output_type": "execute_result",
          "data": {
            "text/plain": [
              "           country  year  country_code        record     crop_land  \\\n",
              "0          Georgia  2016            73  EFConsTotGHA  1.485371e+06   \n",
              "1          Georgia  2016            73  EFProdPerCap  1.506440e-01   \n",
              "2           Zambia  1992           251     AreaTotHA  2.800000e+06   \n",
              "3            Nepal  1980           149  BiocapPerCap  2.729088e-01   \n",
              "4          Georgia  2016            73    AreaPerCap  1.138880e-01   \n",
              "..             ...   ...           ...           ...           ...   \n",
              "585  French Guiana  2016            69  EFProdPerCap  9.140566e-02   \n",
              "586     Guadeloupe  1970            87  EFProdTotGHA  1.041064e+05   \n",
              "587           Cuba  1989            49  EFConsTotGHA  6.372923e+06   \n",
              "588        Hungary  2016            97  BiocapTotGHA  1.497653e+07   \n",
              "589  French Guiana  2016            69     AreaTotHA  1.820000e+04   \n",
              "\n",
              "     grazing_land  forest_land  fishing_ground  built_up_land        carbon  \\\n",
              "0    9.075014e+05  560941.9239    1.205618e+05   1.847296e+05  5.070554e+06   \n",
              "1    2.321877e-01  0.068249791    2.650070e-02   4.705996e-02  8.954236e-01   \n",
              "2    1.826500e+07   52466800.0    9.220000e+05   3.643770e+05  0.000000e+00   \n",
              "3    9.164762e-02  0.142514891    1.065417e-02   4.153062e-02  0.000000e+00   \n",
              "4    4.959846e-01  0.719007712    6.819670e-02   3.557768e-02  0.000000e+00   \n",
              "..            ...          ...             ...            ...           ...   \n",
              "585  6.791892e-02  0.429341295    1.054636e-01   5.091948e-03  8.918139e-01   \n",
              "586  7.986658e+03  9479.108474    4.868866e+04   1.021148e+03  1.090807e+05   \n",
              "587  1.439840e+06   2267907.82    1.455596e+06   3.712708e+05  1.748190e+07   \n",
              "588  6.165292e+05  6860071.071    4.741962e+04   1.559617e+06  0.000000e+00   \n",
              "589  1.390000e+04      8128400    4.602000e+06   1.013870e+03  0.000000e+00   \n",
              "\n",
              "            total QScore  \n",
              "0    8.329659e+06     2A  \n",
              "1    1.420066e+00     2A  \n",
              "2    7.481818e+07     3A  \n",
              "3    5.592561e-01     3A  \n",
              "4    1.432655e+00     2A  \n",
              "..            ...    ...  \n",
              "585  1.591035e+00     2A  \n",
              "586  2.803627e+05     3A  \n",
              "587  2.938943e+07     3A  \n",
              "588  2.406017e+07     2A  \n",
              "589  1.276351e+07     2A  \n",
              "\n",
              "[590 rows x 12 columns]"
            ],
            "text/html": [
              "\n",
              "  <div id=\"df-41669495-58f4-4d12-915b-20a0f3a45d7e\">\n",
              "    <div class=\"colab-df-container\">\n",
              "      <div>\n",
              "<style scoped>\n",
              "    .dataframe tbody tr th:only-of-type {\n",
              "        vertical-align: middle;\n",
              "    }\n",
              "\n",
              "    .dataframe tbody tr th {\n",
              "        vertical-align: top;\n",
              "    }\n",
              "\n",
              "    .dataframe thead th {\n",
              "        text-align: right;\n",
              "    }\n",
              "</style>\n",
              "<table border=\"1\" class=\"dataframe\">\n",
              "  <thead>\n",
              "    <tr style=\"text-align: right;\">\n",
              "      <th></th>\n",
              "      <th>country</th>\n",
              "      <th>year</th>\n",
              "      <th>country_code</th>\n",
              "      <th>record</th>\n",
              "      <th>crop_land</th>\n",
              "      <th>grazing_land</th>\n",
              "      <th>forest_land</th>\n",
              "      <th>fishing_ground</th>\n",
              "      <th>built_up_land</th>\n",
              "      <th>carbon</th>\n",
              "      <th>total</th>\n",
              "      <th>QScore</th>\n",
              "    </tr>\n",
              "  </thead>\n",
              "  <tbody>\n",
              "    <tr>\n",
              "      <th>0</th>\n",
              "      <td>Georgia</td>\n",
              "      <td>2016</td>\n",
              "      <td>73</td>\n",
              "      <td>EFConsTotGHA</td>\n",
              "      <td>1.485371e+06</td>\n",
              "      <td>9.075014e+05</td>\n",
              "      <td>560941.9239</td>\n",
              "      <td>1.205618e+05</td>\n",
              "      <td>1.847296e+05</td>\n",
              "      <td>5.070554e+06</td>\n",
              "      <td>8.329659e+06</td>\n",
              "      <td>2A</td>\n",
              "    </tr>\n",
              "    <tr>\n",
              "      <th>1</th>\n",
              "      <td>Georgia</td>\n",
              "      <td>2016</td>\n",
              "      <td>73</td>\n",
              "      <td>EFProdPerCap</td>\n",
              "      <td>1.506440e-01</td>\n",
              "      <td>2.321877e-01</td>\n",
              "      <td>0.068249791</td>\n",
              "      <td>2.650070e-02</td>\n",
              "      <td>4.705996e-02</td>\n",
              "      <td>8.954236e-01</td>\n",
              "      <td>1.420066e+00</td>\n",
              "      <td>2A</td>\n",
              "    </tr>\n",
              "    <tr>\n",
              "      <th>2</th>\n",
              "      <td>Zambia</td>\n",
              "      <td>1992</td>\n",
              "      <td>251</td>\n",
              "      <td>AreaTotHA</td>\n",
              "      <td>2.800000e+06</td>\n",
              "      <td>1.826500e+07</td>\n",
              "      <td>52466800.0</td>\n",
              "      <td>9.220000e+05</td>\n",
              "      <td>3.643770e+05</td>\n",
              "      <td>0.000000e+00</td>\n",
              "      <td>7.481818e+07</td>\n",
              "      <td>3A</td>\n",
              "    </tr>\n",
              "    <tr>\n",
              "      <th>3</th>\n",
              "      <td>Nepal</td>\n",
              "      <td>1980</td>\n",
              "      <td>149</td>\n",
              "      <td>BiocapPerCap</td>\n",
              "      <td>2.729088e-01</td>\n",
              "      <td>9.164762e-02</td>\n",
              "      <td>0.142514891</td>\n",
              "      <td>1.065417e-02</td>\n",
              "      <td>4.153062e-02</td>\n",
              "      <td>0.000000e+00</td>\n",
              "      <td>5.592561e-01</td>\n",
              "      <td>3A</td>\n",
              "    </tr>\n",
              "    <tr>\n",
              "      <th>4</th>\n",
              "      <td>Georgia</td>\n",
              "      <td>2016</td>\n",
              "      <td>73</td>\n",
              "      <td>AreaPerCap</td>\n",
              "      <td>1.138880e-01</td>\n",
              "      <td>4.959846e-01</td>\n",
              "      <td>0.719007712</td>\n",
              "      <td>6.819670e-02</td>\n",
              "      <td>3.557768e-02</td>\n",
              "      <td>0.000000e+00</td>\n",
              "      <td>1.432655e+00</td>\n",
              "      <td>2A</td>\n",
              "    </tr>\n",
              "    <tr>\n",
              "      <th>...</th>\n",
              "      <td>...</td>\n",
              "      <td>...</td>\n",
              "      <td>...</td>\n",
              "      <td>...</td>\n",
              "      <td>...</td>\n",
              "      <td>...</td>\n",
              "      <td>...</td>\n",
              "      <td>...</td>\n",
              "      <td>...</td>\n",
              "      <td>...</td>\n",
              "      <td>...</td>\n",
              "      <td>...</td>\n",
              "    </tr>\n",
              "    <tr>\n",
              "      <th>585</th>\n",
              "      <td>French Guiana</td>\n",
              "      <td>2016</td>\n",
              "      <td>69</td>\n",
              "      <td>EFProdPerCap</td>\n",
              "      <td>9.140566e-02</td>\n",
              "      <td>6.791892e-02</td>\n",
              "      <td>0.429341295</td>\n",
              "      <td>1.054636e-01</td>\n",
              "      <td>5.091948e-03</td>\n",
              "      <td>8.918139e-01</td>\n",
              "      <td>1.591035e+00</td>\n",
              "      <td>2A</td>\n",
              "    </tr>\n",
              "    <tr>\n",
              "      <th>586</th>\n",
              "      <td>Guadeloupe</td>\n",
              "      <td>1970</td>\n",
              "      <td>87</td>\n",
              "      <td>EFProdTotGHA</td>\n",
              "      <td>1.041064e+05</td>\n",
              "      <td>7.986658e+03</td>\n",
              "      <td>9479.108474</td>\n",
              "      <td>4.868866e+04</td>\n",
              "      <td>1.021148e+03</td>\n",
              "      <td>1.090807e+05</td>\n",
              "      <td>2.803627e+05</td>\n",
              "      <td>3A</td>\n",
              "    </tr>\n",
              "    <tr>\n",
              "      <th>587</th>\n",
              "      <td>Cuba</td>\n",
              "      <td>1989</td>\n",
              "      <td>49</td>\n",
              "      <td>EFConsTotGHA</td>\n",
              "      <td>6.372923e+06</td>\n",
              "      <td>1.439840e+06</td>\n",
              "      <td>2267907.82</td>\n",
              "      <td>1.455596e+06</td>\n",
              "      <td>3.712708e+05</td>\n",
              "      <td>1.748190e+07</td>\n",
              "      <td>2.938943e+07</td>\n",
              "      <td>3A</td>\n",
              "    </tr>\n",
              "    <tr>\n",
              "      <th>588</th>\n",
              "      <td>Hungary</td>\n",
              "      <td>2016</td>\n",
              "      <td>97</td>\n",
              "      <td>BiocapTotGHA</td>\n",
              "      <td>1.497653e+07</td>\n",
              "      <td>6.165292e+05</td>\n",
              "      <td>6860071.071</td>\n",
              "      <td>4.741962e+04</td>\n",
              "      <td>1.559617e+06</td>\n",
              "      <td>0.000000e+00</td>\n",
              "      <td>2.406017e+07</td>\n",
              "      <td>2A</td>\n",
              "    </tr>\n",
              "    <tr>\n",
              "      <th>589</th>\n",
              "      <td>French Guiana</td>\n",
              "      <td>2016</td>\n",
              "      <td>69</td>\n",
              "      <td>AreaTotHA</td>\n",
              "      <td>1.820000e+04</td>\n",
              "      <td>1.390000e+04</td>\n",
              "      <td>8128400</td>\n",
              "      <td>4.602000e+06</td>\n",
              "      <td>1.013870e+03</td>\n",
              "      <td>0.000000e+00</td>\n",
              "      <td>1.276351e+07</td>\n",
              "      <td>2A</td>\n",
              "    </tr>\n",
              "  </tbody>\n",
              "</table>\n",
              "<p>590 rows × 12 columns</p>\n",
              "</div>\n",
              "      <button class=\"colab-df-convert\" onclick=\"convertToInteractive('df-41669495-58f4-4d12-915b-20a0f3a45d7e')\"\n",
              "              title=\"Convert this dataframe to an interactive table.\"\n",
              "              style=\"display:none;\">\n",
              "        \n",
              "  <svg xmlns=\"http://www.w3.org/2000/svg\" height=\"24px\"viewBox=\"0 0 24 24\"\n",
              "       width=\"24px\">\n",
              "    <path d=\"M0 0h24v24H0V0z\" fill=\"none\"/>\n",
              "    <path d=\"M18.56 5.44l.94 2.06.94-2.06 2.06-.94-2.06-.94-.94-2.06-.94 2.06-2.06.94zm-11 1L8.5 8.5l.94-2.06 2.06-.94-2.06-.94L8.5 2.5l-.94 2.06-2.06.94zm10 10l.94 2.06.94-2.06 2.06-.94-2.06-.94-.94-2.06-.94 2.06-2.06.94z\"/><path d=\"M17.41 7.96l-1.37-1.37c-.4-.4-.92-.59-1.43-.59-.52 0-1.04.2-1.43.59L10.3 9.45l-7.72 7.72c-.78.78-.78 2.05 0 2.83L4 21.41c.39.39.9.59 1.41.59.51 0 1.02-.2 1.41-.59l7.78-7.78 2.81-2.81c.8-.78.8-2.07 0-2.86zM5.41 20L4 18.59l7.72-7.72 1.47 1.35L5.41 20z\"/>\n",
              "  </svg>\n",
              "      </button>\n",
              "      \n",
              "  <style>\n",
              "    .colab-df-container {\n",
              "      display:flex;\n",
              "      flex-wrap:wrap;\n",
              "      gap: 12px;\n",
              "    }\n",
              "\n",
              "    .colab-df-convert {\n",
              "      background-color: #E8F0FE;\n",
              "      border: none;\n",
              "      border-radius: 50%;\n",
              "      cursor: pointer;\n",
              "      display: none;\n",
              "      fill: #1967D2;\n",
              "      height: 32px;\n",
              "      padding: 0 0 0 0;\n",
              "      width: 32px;\n",
              "    }\n",
              "\n",
              "    .colab-df-convert:hover {\n",
              "      background-color: #E2EBFA;\n",
              "      box-shadow: 0px 1px 2px rgba(60, 64, 67, 0.3), 0px 1px 3px 1px rgba(60, 64, 67, 0.15);\n",
              "      fill: #174EA6;\n",
              "    }\n",
              "\n",
              "    [theme=dark] .colab-df-convert {\n",
              "      background-color: #3B4455;\n",
              "      fill: #D2E3FC;\n",
              "    }\n",
              "\n",
              "    [theme=dark] .colab-df-convert:hover {\n",
              "      background-color: #434B5C;\n",
              "      box-shadow: 0px 1px 3px 1px rgba(0, 0, 0, 0.15);\n",
              "      filter: drop-shadow(0px 1px 2px rgba(0, 0, 0, 0.3));\n",
              "      fill: #FFFFFF;\n",
              "    }\n",
              "  </style>\n",
              "\n",
              "      <script>\n",
              "        const buttonEl =\n",
              "          document.querySelector('#df-41669495-58f4-4d12-915b-20a0f3a45d7e button.colab-df-convert');\n",
              "        buttonEl.style.display =\n",
              "          google.colab.kernel.accessAllowed ? 'block' : 'none';\n",
              "\n",
              "        async function convertToInteractive(key) {\n",
              "          const element = document.querySelector('#df-41669495-58f4-4d12-915b-20a0f3a45d7e');\n",
              "          const dataTable =\n",
              "            await google.colab.kernel.invokeFunction('convertToInteractive',\n",
              "                                                     [key], {});\n",
              "          if (!dataTable) return;\n",
              "\n",
              "          const docLinkHtml = 'Like what you see? Visit the ' +\n",
              "            '<a target=\"_blank\" href=https://colab.research.google.com/notebooks/data_table.ipynb>data table notebook</a>'\n",
              "            + ' to learn more about interactive tables.';\n",
              "          element.innerHTML = '';\n",
              "          dataTable['output_type'] = 'display_data';\n",
              "          await google.colab.output.renderOutput(dataTable, element);\n",
              "          const docLink = document.createElement('div');\n",
              "          docLink.innerHTML = docLinkHtml;\n",
              "          element.appendChild(docLink);\n",
              "        }\n",
              "      </script>\n",
              "    </div>\n",
              "  </div>\n",
              "  "
            ]
          },
          "metadata": {},
          "execution_count": 13
        }
      ],
      "source": [
        "import sklearn.utils\n",
        "data_df = sklearn.utils.shuffle(data_df)\n",
        "data_df = data_df.reset_index(drop=True)\n",
        "data_df"
      ]
    },
    {
      "cell_type": "code",
      "execution_count": 14,
      "id": "17ec26d3",
      "metadata": {
        "colab": {
          "base_uri": "https://localhost:8080/"
        },
        "id": "17ec26d3",
        "outputId": "78f39ebe-aae2-4a3e-c64d-d84c5724eb5d"
      },
      "outputs": [
        {
          "output_type": "execute_result",
          "data": {
            "text/plain": [
              "3A    350\n",
              "2A    240\n",
              "Name: QScore, dtype: int64"
            ]
          },
          "metadata": {},
          "execution_count": 14
        }
      ],
      "source": [
        "data_df[\"QScore\"].value_counts()"
      ]
    },
    {
      "cell_type": "code",
      "execution_count": 15,
      "id": "b12cc091",
      "metadata": {
        "id": "b12cc091"
      },
      "outputs": [],
      "source": [
        "#more preprocessing\n",
        "data_df = data_df.drop(columns=['country_code', 'country', 'year'])\n",
        "X = data_df.drop(columns='QScore')\n",
        "y = data_df['QScore']"
      ]
    },
    {
      "cell_type": "code",
      "execution_count": 16,
      "id": "0da28b03",
      "metadata": {
        "colab": {
          "base_uri": "https://localhost:8080/"
        },
        "id": "0da28b03",
        "outputId": "c3139e8b-94d6-480d-935c-0cee6172f2b4"
      },
      "outputs": [
        {
          "output_type": "execute_result",
          "data": {
            "text/plain": [
              "3A    244\n",
              "2A    169\n",
              "Name: QScore, dtype: int64"
            ]
          },
          "metadata": {},
          "execution_count": 16
        }
      ],
      "source": [
        "#split the data into training and testing sets\n",
        "from sklearn.model_selection import train_test_split\n",
        "x_train, x_test, y_train, y_test = train_test_split(X, y, test_size=0.3, random_state=0)\n",
        "y_train.value_counts()"
      ]
    },
    {
      "cell_type": "code",
      "execution_count": 17,
      "id": "083b30a9",
      "metadata": {
        "scrolled": true,
        "colab": {
          "base_uri": "https://localhost:8080/",
          "height": 424
        },
        "id": "083b30a9",
        "outputId": "281d8a27-da9b-462a-8999-0857afbc2e38"
      },
      "outputs": [
        {
          "output_type": "execute_result",
          "data": {
            "text/plain": [
              "           record     crop_land  grazing_land  forest_land  fishing_ground  \\\n",
              "0    EFConsTotGHA  1.485371e+06  9.075014e+05  560941.9239    1.205618e+05   \n",
              "1    EFProdPerCap  1.506440e-01  2.321877e-01  0.068249791    2.650070e-02   \n",
              "2       AreaTotHA  2.800000e+06  1.826500e+07   52466800.0    9.220000e+05   \n",
              "3    BiocapPerCap  2.729088e-01  9.164762e-02  0.142514891    1.065417e-02   \n",
              "4      AreaPerCap  1.138880e-01  4.959846e-01  0.719007712    6.819670e-02   \n",
              "..            ...           ...           ...          ...             ...   \n",
              "585  EFProdPerCap  9.140566e-02  6.791892e-02  0.429341295    1.054636e-01   \n",
              "586  EFProdTotGHA  1.041064e+05  7.986658e+03  9479.108474    4.868866e+04   \n",
              "587  EFConsTotGHA  6.372923e+06  1.439840e+06   2267907.82    1.455596e+06   \n",
              "588  BiocapTotGHA  1.497653e+07  6.165292e+05  6860071.071    4.741962e+04   \n",
              "589     AreaTotHA  1.820000e+04  1.390000e+04      8128400    4.602000e+06   \n",
              "\n",
              "     built_up_land        carbon         total QScore  \n",
              "0     1.847296e+05  5.070554e+06  8.329659e+06     2A  \n",
              "1     4.705996e-02  8.954236e-01  1.420066e+00     2A  \n",
              "2     3.643770e+05  0.000000e+00  7.481818e+07     3A  \n",
              "3     4.153062e-02  0.000000e+00  5.592561e-01     3A  \n",
              "4     3.557768e-02  0.000000e+00  1.432655e+00     2A  \n",
              "..             ...           ...           ...    ...  \n",
              "585   5.091948e-03  8.918139e-01  1.591035e+00     2A  \n",
              "586   1.021148e+03  1.090807e+05  2.803627e+05     3A  \n",
              "587   3.712708e+05  1.748190e+07  2.938943e+07     3A  \n",
              "588   1.559617e+06  0.000000e+00  2.406017e+07     2A  \n",
              "589   1.013870e+03  0.000000e+00  1.276351e+07     2A  \n",
              "\n",
              "[590 rows x 9 columns]"
            ],
            "text/html": [
              "\n",
              "  <div id=\"df-10201848-ad49-46ae-8ae0-f08cff5645c5\">\n",
              "    <div class=\"colab-df-container\">\n",
              "      <div>\n",
              "<style scoped>\n",
              "    .dataframe tbody tr th:only-of-type {\n",
              "        vertical-align: middle;\n",
              "    }\n",
              "\n",
              "    .dataframe tbody tr th {\n",
              "        vertical-align: top;\n",
              "    }\n",
              "\n",
              "    .dataframe thead th {\n",
              "        text-align: right;\n",
              "    }\n",
              "</style>\n",
              "<table border=\"1\" class=\"dataframe\">\n",
              "  <thead>\n",
              "    <tr style=\"text-align: right;\">\n",
              "      <th></th>\n",
              "      <th>record</th>\n",
              "      <th>crop_land</th>\n",
              "      <th>grazing_land</th>\n",
              "      <th>forest_land</th>\n",
              "      <th>fishing_ground</th>\n",
              "      <th>built_up_land</th>\n",
              "      <th>carbon</th>\n",
              "      <th>total</th>\n",
              "      <th>QScore</th>\n",
              "    </tr>\n",
              "  </thead>\n",
              "  <tbody>\n",
              "    <tr>\n",
              "      <th>0</th>\n",
              "      <td>EFConsTotGHA</td>\n",
              "      <td>1.485371e+06</td>\n",
              "      <td>9.075014e+05</td>\n",
              "      <td>560941.9239</td>\n",
              "      <td>1.205618e+05</td>\n",
              "      <td>1.847296e+05</td>\n",
              "      <td>5.070554e+06</td>\n",
              "      <td>8.329659e+06</td>\n",
              "      <td>2A</td>\n",
              "    </tr>\n",
              "    <tr>\n",
              "      <th>1</th>\n",
              "      <td>EFProdPerCap</td>\n",
              "      <td>1.506440e-01</td>\n",
              "      <td>2.321877e-01</td>\n",
              "      <td>0.068249791</td>\n",
              "      <td>2.650070e-02</td>\n",
              "      <td>4.705996e-02</td>\n",
              "      <td>8.954236e-01</td>\n",
              "      <td>1.420066e+00</td>\n",
              "      <td>2A</td>\n",
              "    </tr>\n",
              "    <tr>\n",
              "      <th>2</th>\n",
              "      <td>AreaTotHA</td>\n",
              "      <td>2.800000e+06</td>\n",
              "      <td>1.826500e+07</td>\n",
              "      <td>52466800.0</td>\n",
              "      <td>9.220000e+05</td>\n",
              "      <td>3.643770e+05</td>\n",
              "      <td>0.000000e+00</td>\n",
              "      <td>7.481818e+07</td>\n",
              "      <td>3A</td>\n",
              "    </tr>\n",
              "    <tr>\n",
              "      <th>3</th>\n",
              "      <td>BiocapPerCap</td>\n",
              "      <td>2.729088e-01</td>\n",
              "      <td>9.164762e-02</td>\n",
              "      <td>0.142514891</td>\n",
              "      <td>1.065417e-02</td>\n",
              "      <td>4.153062e-02</td>\n",
              "      <td>0.000000e+00</td>\n",
              "      <td>5.592561e-01</td>\n",
              "      <td>3A</td>\n",
              "    </tr>\n",
              "    <tr>\n",
              "      <th>4</th>\n",
              "      <td>AreaPerCap</td>\n",
              "      <td>1.138880e-01</td>\n",
              "      <td>4.959846e-01</td>\n",
              "      <td>0.719007712</td>\n",
              "      <td>6.819670e-02</td>\n",
              "      <td>3.557768e-02</td>\n",
              "      <td>0.000000e+00</td>\n",
              "      <td>1.432655e+00</td>\n",
              "      <td>2A</td>\n",
              "    </tr>\n",
              "    <tr>\n",
              "      <th>...</th>\n",
              "      <td>...</td>\n",
              "      <td>...</td>\n",
              "      <td>...</td>\n",
              "      <td>...</td>\n",
              "      <td>...</td>\n",
              "      <td>...</td>\n",
              "      <td>...</td>\n",
              "      <td>...</td>\n",
              "      <td>...</td>\n",
              "    </tr>\n",
              "    <tr>\n",
              "      <th>585</th>\n",
              "      <td>EFProdPerCap</td>\n",
              "      <td>9.140566e-02</td>\n",
              "      <td>6.791892e-02</td>\n",
              "      <td>0.429341295</td>\n",
              "      <td>1.054636e-01</td>\n",
              "      <td>5.091948e-03</td>\n",
              "      <td>8.918139e-01</td>\n",
              "      <td>1.591035e+00</td>\n",
              "      <td>2A</td>\n",
              "    </tr>\n",
              "    <tr>\n",
              "      <th>586</th>\n",
              "      <td>EFProdTotGHA</td>\n",
              "      <td>1.041064e+05</td>\n",
              "      <td>7.986658e+03</td>\n",
              "      <td>9479.108474</td>\n",
              "      <td>4.868866e+04</td>\n",
              "      <td>1.021148e+03</td>\n",
              "      <td>1.090807e+05</td>\n",
              "      <td>2.803627e+05</td>\n",
              "      <td>3A</td>\n",
              "    </tr>\n",
              "    <tr>\n",
              "      <th>587</th>\n",
              "      <td>EFConsTotGHA</td>\n",
              "      <td>6.372923e+06</td>\n",
              "      <td>1.439840e+06</td>\n",
              "      <td>2267907.82</td>\n",
              "      <td>1.455596e+06</td>\n",
              "      <td>3.712708e+05</td>\n",
              "      <td>1.748190e+07</td>\n",
              "      <td>2.938943e+07</td>\n",
              "      <td>3A</td>\n",
              "    </tr>\n",
              "    <tr>\n",
              "      <th>588</th>\n",
              "      <td>BiocapTotGHA</td>\n",
              "      <td>1.497653e+07</td>\n",
              "      <td>6.165292e+05</td>\n",
              "      <td>6860071.071</td>\n",
              "      <td>4.741962e+04</td>\n",
              "      <td>1.559617e+06</td>\n",
              "      <td>0.000000e+00</td>\n",
              "      <td>2.406017e+07</td>\n",
              "      <td>2A</td>\n",
              "    </tr>\n",
              "    <tr>\n",
              "      <th>589</th>\n",
              "      <td>AreaTotHA</td>\n",
              "      <td>1.820000e+04</td>\n",
              "      <td>1.390000e+04</td>\n",
              "      <td>8128400</td>\n",
              "      <td>4.602000e+06</td>\n",
              "      <td>1.013870e+03</td>\n",
              "      <td>0.000000e+00</td>\n",
              "      <td>1.276351e+07</td>\n",
              "      <td>2A</td>\n",
              "    </tr>\n",
              "  </tbody>\n",
              "</table>\n",
              "<p>590 rows × 9 columns</p>\n",
              "</div>\n",
              "      <button class=\"colab-df-convert\" onclick=\"convertToInteractive('df-10201848-ad49-46ae-8ae0-f08cff5645c5')\"\n",
              "              title=\"Convert this dataframe to an interactive table.\"\n",
              "              style=\"display:none;\">\n",
              "        \n",
              "  <svg xmlns=\"http://www.w3.org/2000/svg\" height=\"24px\"viewBox=\"0 0 24 24\"\n",
              "       width=\"24px\">\n",
              "    <path d=\"M0 0h24v24H0V0z\" fill=\"none\"/>\n",
              "    <path d=\"M18.56 5.44l.94 2.06.94-2.06 2.06-.94-2.06-.94-.94-2.06-.94 2.06-2.06.94zm-11 1L8.5 8.5l.94-2.06 2.06-.94-2.06-.94L8.5 2.5l-.94 2.06-2.06.94zm10 10l.94 2.06.94-2.06 2.06-.94-2.06-.94-.94-2.06-.94 2.06-2.06.94z\"/><path d=\"M17.41 7.96l-1.37-1.37c-.4-.4-.92-.59-1.43-.59-.52 0-1.04.2-1.43.59L10.3 9.45l-7.72 7.72c-.78.78-.78 2.05 0 2.83L4 21.41c.39.39.9.59 1.41.59.51 0 1.02-.2 1.41-.59l7.78-7.78 2.81-2.81c.8-.78.8-2.07 0-2.86zM5.41 20L4 18.59l7.72-7.72 1.47 1.35L5.41 20z\"/>\n",
              "  </svg>\n",
              "      </button>\n",
              "      \n",
              "  <style>\n",
              "    .colab-df-container {\n",
              "      display:flex;\n",
              "      flex-wrap:wrap;\n",
              "      gap: 12px;\n",
              "    }\n",
              "\n",
              "    .colab-df-convert {\n",
              "      background-color: #E8F0FE;\n",
              "      border: none;\n",
              "      border-radius: 50%;\n",
              "      cursor: pointer;\n",
              "      display: none;\n",
              "      fill: #1967D2;\n",
              "      height: 32px;\n",
              "      padding: 0 0 0 0;\n",
              "      width: 32px;\n",
              "    }\n",
              "\n",
              "    .colab-df-convert:hover {\n",
              "      background-color: #E2EBFA;\n",
              "      box-shadow: 0px 1px 2px rgba(60, 64, 67, 0.3), 0px 1px 3px 1px rgba(60, 64, 67, 0.15);\n",
              "      fill: #174EA6;\n",
              "    }\n",
              "\n",
              "    [theme=dark] .colab-df-convert {\n",
              "      background-color: #3B4455;\n",
              "      fill: #D2E3FC;\n",
              "    }\n",
              "\n",
              "    [theme=dark] .colab-df-convert:hover {\n",
              "      background-color: #434B5C;\n",
              "      box-shadow: 0px 1px 3px 1px rgba(0, 0, 0, 0.15);\n",
              "      filter: drop-shadow(0px 1px 2px rgba(0, 0, 0, 0.3));\n",
              "      fill: #FFFFFF;\n",
              "    }\n",
              "  </style>\n",
              "\n",
              "      <script>\n",
              "        const buttonEl =\n",
              "          document.querySelector('#df-10201848-ad49-46ae-8ae0-f08cff5645c5 button.colab-df-convert');\n",
              "        buttonEl.style.display =\n",
              "          google.colab.kernel.accessAllowed ? 'block' : 'none';\n",
              "\n",
              "        async function convertToInteractive(key) {\n",
              "          const element = document.querySelector('#df-10201848-ad49-46ae-8ae0-f08cff5645c5');\n",
              "          const dataTable =\n",
              "            await google.colab.kernel.invokeFunction('convertToInteractive',\n",
              "                                                     [key], {});\n",
              "          if (!dataTable) return;\n",
              "\n",
              "          const docLinkHtml = 'Like what you see? Visit the ' +\n",
              "            '<a target=\"_blank\" href=https://colab.research.google.com/notebooks/data_table.ipynb>data table notebook</a>'\n",
              "            + ' to learn more about interactive tables.';\n",
              "          element.innerHTML = '';\n",
              "          dataTable['output_type'] = 'display_data';\n",
              "          await google.colab.output.renderOutput(dataTable, element);\n",
              "          const docLink = document.createElement('div');\n",
              "          docLink.innerHTML = docLinkHtml;\n",
              "          element.appendChild(docLink);\n",
              "        }\n",
              "      </script>\n",
              "    </div>\n",
              "  </div>\n",
              "  "
            ]
          },
          "metadata": {},
          "execution_count": 17
        }
      ],
      "source": [
        "data_df"
      ]
    },
    {
      "cell_type": "code",
      "execution_count": 18,
      "id": "af44ec36",
      "metadata": {
        "colab": {
          "base_uri": "https://localhost:8080/"
        },
        "id": "af44ec36",
        "outputId": "9d8a2f2b-cff9-4773-bb8a-4ae2891a363b"
      },
      "outputs": [
        {
          "output_type": "execute_result",
          "data": {
            "text/plain": [
              "285    EFConsPerCap\n",
              "113    EFProdPerCap\n",
              "18     BiocapTotGHA\n",
              "76     EFProdTotGHA\n",
              "206    BiocapPerCap\n",
              "           ...     \n",
              "277    EFConsTotGHA\n",
              "9      EFProdTotGHA\n",
              "359    EFConsTotGHA\n",
              "192    EFProdPerCap\n",
              "559       AreaTotHA\n",
              "Name: record, Length: 413, dtype: object"
            ]
          },
          "metadata": {},
          "execution_count": 18
        }
      ],
      "source": [
        "x_train.record"
      ]
    },
    {
      "cell_type": "code",
      "execution_count": 19,
      "id": "58aa2af0",
      "metadata": {
        "colab": {
          "base_uri": "https://localhost:8080/"
        },
        "id": "58aa2af0",
        "outputId": "8ae2321b-d075-4fda-c255-34457fcdf122"
      },
      "outputs": [
        {
          "output_type": "execute_result",
          "data": {
            "text/plain": [
              "225    EFProdTotGHA\n",
              "14       AreaPerCap\n",
              "85     EFProdTotGHA\n",
              "418       AreaTotHA\n",
              "132    EFConsTotGHA\n",
              "           ...     \n",
              "346    EFConsPerCap\n",
              "369    EFProdTotGHA\n",
              "140    BiocapPerCap\n",
              "533    EFConsTotGHA\n",
              "171    BiocapPerCap\n",
              "Name: record, Length: 177, dtype: object"
            ]
          },
          "metadata": {},
          "execution_count": 19
        }
      ],
      "source": [
        "x_test.record"
      ]
    },
    {
      "cell_type": "code",
      "execution_count": 20,
      "id": "5621ef6d",
      "metadata": {
        "colab": {
          "base_uri": "https://localhost:8080/"
        },
        "id": "5621ef6d",
        "outputId": "bd5afcc9-d7d5-4984-89a5-d5b6f006d1e6"
      },
      "outputs": [
        {
          "output_type": "stream",
          "name": "stdout",
          "text": [
            "Looking in indexes: https://pypi.org/simple, https://us-python.pkg.dev/colab-wheels/public/simple/\n",
            "Requirement already satisfied: imblearn in /usr/local/lib/python3.8/dist-packages (0.0)\n",
            "Requirement already satisfied: imbalanced-learn in /usr/local/lib/python3.8/dist-packages (from imblearn) (0.8.1)\n",
            "Requirement already satisfied: scikit-learn>=0.24 in /usr/local/lib/python3.8/dist-packages (from imbalanced-learn->imblearn) (1.2.1)\n",
            "Requirement already satisfied: numpy>=1.13.3 in /usr/local/lib/python3.8/dist-packages (from imbalanced-learn->imblearn) (1.22.4)\n",
            "Requirement already satisfied: joblib>=0.11 in /usr/local/lib/python3.8/dist-packages (from imbalanced-learn->imblearn) (1.2.0)\n",
            "Requirement already satisfied: scipy>=0.19.1 in /usr/local/lib/python3.8/dist-packages (from imbalanced-learn->imblearn) (1.10.1)\n",
            "Requirement already satisfied: threadpoolctl>=2.0.0 in /usr/local/lib/python3.8/dist-packages (from scikit-learn>=0.24->imbalanced-learn->imblearn) (3.1.0)\n"
          ]
        }
      ],
      "source": [
        "#There is still an imbalance in the class distribution. For this, we use SMOTE only on the training data to handle this.\n",
        "#encode categorical variable\n",
        "from sklearn.preprocessing import LabelEncoder\n",
        "encoder = LabelEncoder()\n",
        "x_train.record = encoder.fit_transform(x_train.record)\n",
        "x_test.record = encoder.transform(x_test.record)\n",
        "\n",
        "!pip install imblearn\n",
        "from imblearn.over_sampling import SMOTE\n",
        "smote = SMOTE(random_state=1)\n",
        "x_train_balanced, y_balanced = smote.fit_resample(x_train, y_train)\n",
        "\n"
      ]
    },
    {
      "cell_type": "code",
      "execution_count": 21,
      "id": "d6ad6616",
      "metadata": {
        "id": "d6ad6616"
      },
      "outputs": [],
      "source": [
        "from sklearn.preprocessing import MinMaxScaler\n",
        "scaler = MinMaxScaler()\n",
        "normalised_train_df = scaler.fit_transform(x_train_balanced.drop(columns=['record']))\n",
        "normalised_train_df = pd.DataFrame(normalised_train_df, columns=x_train_balanced.drop(columns=['record']).columns)\n",
        "normalised_train_df['record'] = x_train_balanced['record']\n",
        "\n",
        "x_test = x_test.reset_index(drop=True)\n",
        "normalised_test_df = scaler.transform(x_test.drop(columns=['record']))\n",
        "normalised_test_df = pd.DataFrame(normalised_test_df, columns=x_test.drop(columns=['record']).columns)\n",
        "normalised_test_df['record'] = x_test['record']"
      ]
    },
    {
      "cell_type": "code",
      "execution_count": 22,
      "id": "d9fc9e21",
      "metadata": {
        "colab": {
          "base_uri": "https://localhost:8080/"
        },
        "id": "d9fc9e21",
        "outputId": "05e3abec-93f4-4557-df53-46af9abdb3bc"
      },
      "outputs": [
        {
          "output_type": "execute_result",
          "data": {
            "text/plain": [
              "(        crop_land  grazing_land   forest_land  fishing_ground  built_up_land  \\\n",
              " 0    6.811963e-10  1.202581e-10  3.816384e-10    5.301379e-11   8.602405e-10   \n",
              " 1    1.396360e-09  1.816305e-12  5.198384e-11    1.103842e-12   5.540058e-10   \n",
              " 2    2.241541e-03  8.548305e-05  4.509771e-03    1.805230e-03   8.118857e-03   \n",
              " 3    1.328307e-04  1.292951e-05  4.426524e-05    0.000000e+00   3.110102e-04   \n",
              " 4    2.745920e-11  1.911970e-12  3.496315e-11    4.645616e-10   7.615204e-12   \n",
              " ..            ...           ...           ...             ...            ...   \n",
              " 483  8.119186e-04  3.023243e-03  1.276780e-04    5.991516e-04   1.506540e-03   \n",
              " 484  1.909617e-03  1.084288e-03  5.656260e-04    2.302670e-03   2.893094e-03   \n",
              " 485  2.124246e-10  2.713226e-11  1.500257e-10    7.970661e-12   4.029248e-10   \n",
              " 486  2.054939e-04  1.469402e-05  1.615211e-05    2.217735e-04   9.658866e-04   \n",
              " 487  2.180417e-04  9.645616e-06  3.657373e-04    3.791293e-05   3.332248e-04   \n",
              " \n",
              "            carbon         total  record  \n",
              " 0    9.721419e-10  5.589358e-10       4  \n",
              " 1    4.590516e-10  3.221774e-10       6  \n",
              " 2    0.000000e+00  2.457602e-03       3  \n",
              " 3    1.041416e-03  3.613340e-04       7  \n",
              " 4    0.000000e+00  1.141870e-10       2  \n",
              " ..            ...           ...     ...  \n",
              " 483  0.000000e+00  1.131426e-03       1  \n",
              " 484  4.606366e-05  1.353960e-03       3  \n",
              " 485  6.007749e-11  9.500052e-11       6  \n",
              " 486  2.970258e-05  1.123918e-04       4  \n",
              " 487  3.796279e-04  2.903158e-04       7  \n",
              " \n",
              " [488 rows x 8 columns], 0      7\n",
              " 1      0\n",
              " 2      7\n",
              " 3      1\n",
              " 4      5\n",
              "       ..\n",
              " 172    4\n",
              " 173    7\n",
              " 174    2\n",
              " 175    5\n",
              " 176    2\n",
              " Name: record, Length: 177, dtype: int64)"
            ]
          },
          "metadata": {},
          "execution_count": 22
        }
      ],
      "source": [
        "normalised_train_df, normalised_test_df['record']"
      ]
    },
    {
      "cell_type": "code",
      "execution_count": 23,
      "id": "f102ee6f",
      "metadata": {
        "colab": {
          "base_uri": "https://localhost:8080/",
          "height": 75
        },
        "id": "f102ee6f",
        "outputId": "ebbfbc1d-1739-4d94-f0b5-73d586af2951"
      },
      "outputs": [
        {
          "output_type": "execute_result",
          "data": {
            "text/plain": [
              "LogisticRegression()"
            ],
            "text/html": [
              "<style>#sk-container-id-1 {color: black;background-color: white;}#sk-container-id-1 pre{padding: 0;}#sk-container-id-1 div.sk-toggleable {background-color: white;}#sk-container-id-1 label.sk-toggleable__label {cursor: pointer;display: block;width: 100%;margin-bottom: 0;padding: 0.3em;box-sizing: border-box;text-align: center;}#sk-container-id-1 label.sk-toggleable__label-arrow:before {content: \"▸\";float: left;margin-right: 0.25em;color: #696969;}#sk-container-id-1 label.sk-toggleable__label-arrow:hover:before {color: black;}#sk-container-id-1 div.sk-estimator:hover label.sk-toggleable__label-arrow:before {color: black;}#sk-container-id-1 div.sk-toggleable__content {max-height: 0;max-width: 0;overflow: hidden;text-align: left;background-color: #f0f8ff;}#sk-container-id-1 div.sk-toggleable__content pre {margin: 0.2em;color: black;border-radius: 0.25em;background-color: #f0f8ff;}#sk-container-id-1 input.sk-toggleable__control:checked~div.sk-toggleable__content {max-height: 200px;max-width: 100%;overflow: auto;}#sk-container-id-1 input.sk-toggleable__control:checked~label.sk-toggleable__label-arrow:before {content: \"▾\";}#sk-container-id-1 div.sk-estimator input.sk-toggleable__control:checked~label.sk-toggleable__label {background-color: #d4ebff;}#sk-container-id-1 div.sk-label input.sk-toggleable__control:checked~label.sk-toggleable__label {background-color: #d4ebff;}#sk-container-id-1 input.sk-hidden--visually {border: 0;clip: rect(1px 1px 1px 1px);clip: rect(1px, 1px, 1px, 1px);height: 1px;margin: -1px;overflow: hidden;padding: 0;position: absolute;width: 1px;}#sk-container-id-1 div.sk-estimator {font-family: monospace;background-color: #f0f8ff;border: 1px dotted black;border-radius: 0.25em;box-sizing: border-box;margin-bottom: 0.5em;}#sk-container-id-1 div.sk-estimator:hover {background-color: #d4ebff;}#sk-container-id-1 div.sk-parallel-item::after {content: \"\";width: 100%;border-bottom: 1px solid gray;flex-grow: 1;}#sk-container-id-1 div.sk-label:hover label.sk-toggleable__label {background-color: #d4ebff;}#sk-container-id-1 div.sk-serial::before {content: \"\";position: absolute;border-left: 1px solid gray;box-sizing: border-box;top: 0;bottom: 0;left: 50%;z-index: 0;}#sk-container-id-1 div.sk-serial {display: flex;flex-direction: column;align-items: center;background-color: white;padding-right: 0.2em;padding-left: 0.2em;position: relative;}#sk-container-id-1 div.sk-item {position: relative;z-index: 1;}#sk-container-id-1 div.sk-parallel {display: flex;align-items: stretch;justify-content: center;background-color: white;position: relative;}#sk-container-id-1 div.sk-item::before, #sk-container-id-1 div.sk-parallel-item::before {content: \"\";position: absolute;border-left: 1px solid gray;box-sizing: border-box;top: 0;bottom: 0;left: 50%;z-index: -1;}#sk-container-id-1 div.sk-parallel-item {display: flex;flex-direction: column;z-index: 1;position: relative;background-color: white;}#sk-container-id-1 div.sk-parallel-item:first-child::after {align-self: flex-end;width: 50%;}#sk-container-id-1 div.sk-parallel-item:last-child::after {align-self: flex-start;width: 50%;}#sk-container-id-1 div.sk-parallel-item:only-child::after {width: 0;}#sk-container-id-1 div.sk-dashed-wrapped {border: 1px dashed gray;margin: 0 0.4em 0.5em 0.4em;box-sizing: border-box;padding-bottom: 0.4em;background-color: white;}#sk-container-id-1 div.sk-label label {font-family: monospace;font-weight: bold;display: inline-block;line-height: 1.2em;}#sk-container-id-1 div.sk-label-container {text-align: center;}#sk-container-id-1 div.sk-container {/* jupyter's `normalize.less` sets `[hidden] { display: none; }` but bootstrap.min.css set `[hidden] { display: none !important; }` so we also need the `!important` here to be able to override the default hidden behavior on the sphinx rendered scikit-learn.org. See: https://github.com/scikit-learn/scikit-learn/issues/21755 */display: inline-block !important;position: relative;}#sk-container-id-1 div.sk-text-repr-fallback {display: none;}</style><div id=\"sk-container-id-1\" class=\"sk-top-container\"><div class=\"sk-text-repr-fallback\"><pre>LogisticRegression()</pre><b>In a Jupyter environment, please rerun this cell to show the HTML representation or trust the notebook. <br />On GitHub, the HTML representation is unable to render, please try loading this page with nbviewer.org.</b></div><div class=\"sk-container\" hidden><div class=\"sk-item\"><div class=\"sk-estimator sk-toggleable\"><input class=\"sk-toggleable__control sk-hidden--visually\" id=\"sk-estimator-id-1\" type=\"checkbox\" checked><label for=\"sk-estimator-id-1\" class=\"sk-toggleable__label sk-toggleable__label-arrow\">LogisticRegression</label><div class=\"sk-toggleable__content\"><pre>LogisticRegression()</pre></div></div></div></div></div>"
            ]
          },
          "metadata": {},
          "execution_count": 23
        }
      ],
      "source": [
        "#Logistic Regression\n",
        "from sklearn.linear_model import LogisticRegression\n",
        "log_reg = LogisticRegression()\n",
        "log_reg.fit(normalised_train_df, y_balanced)\n",
        "#returns\n",
        "LogisticRegression(C = 1.0, class_weight = None, dual = False, fit_intercept = True, intercept_scaling = 1, l1_ratio = None,\n",
        "                   max_iter=100,multi_class='auto', n_jobs=None, penalty='l2', random_state=None, solver='lbfgs', tol=0.0001,\n",
        "                   verbose=0, warm_start = False)"
      ]
    },
    {
      "cell_type": "markdown",
      "id": "5da191a4",
      "metadata": {
        "id": "5da191a4"
      },
      "source": [
        "### Measuring Classification Performance\n",
        "##### - Cross-validation and accuracy"
      ]
    },
    {
      "cell_type": "code",
      "execution_count": 24,
      "id": "2f45ce2c",
      "metadata": {
        "colab": {
          "base_uri": "https://localhost:8080/"
        },
        "id": "2f45ce2c",
        "outputId": "d74197e7-a7ef-47b7-bf7e-1cf0ca5f96e5"
      },
      "outputs": [
        {
          "output_type": "execute_result",
          "data": {
            "text/plain": [
              "array([0.58909853, 0.47516539, 0.47865891, 0.54975659, 0.49138577])"
            ]
          },
          "metadata": {},
          "execution_count": 24
        }
      ],
      "source": [
        "from sklearn.model_selection import cross_val_score\n",
        "scores = cross_val_score(log_reg, normalised_train_df, y_balanced, cv=5, scoring='f1_macro')\n",
        "scores\n",
        "#prints: array([0.55594592, 0.4733312 , 0.55651249, 0.5245098 , 0.58315241])\n"
      ]
    },
    {
      "cell_type": "markdown",
      "id": "7a9e2be0",
      "metadata": {
        "id": "7a9e2be0"
      },
      "source": [
        "##### - K-Fold Cross Validation"
      ]
    },
    {
      "cell_type": "code",
      "execution_count": 25,
      "id": "c5a1e164",
      "metadata": {
        "scrolled": true,
        "id": "c5a1e164"
      },
      "outputs": [],
      "source": [
        "from sklearn.metrics import f1_score\n",
        "from sklearn.model_selection import KFold\n",
        "kf = KFold(n_splits=5)\n",
        "kf.split(normalised_train_df)\n",
        "f1_scores = []\n",
        "#run for every split\n",
        "for train_index, test_index in kf.split(normalised_train_df):\n",
        "    x_train, x_test = normalised_train_df.iloc[train_index], normalised_train_df.iloc[test_index]\n",
        "    y_train, y_test = y_balanced[train_index],y_balanced[test_index]\n",
        "model = LogisticRegression().fit(x_train, y_train)\n",
        "#save result to list\n",
        "f1_scores.append(f1_score(y_true=y_test, y_pred=model.predict(x_test), pos_label='2A')*100)"
      ]
    },
    {
      "cell_type": "code",
      "execution_count": 26,
      "id": "b0ac35ce",
      "metadata": {
        "colab": {
          "base_uri": "https://localhost:8080/"
        },
        "id": "b0ac35ce",
        "outputId": "3f5a37f1-e447-4f67-db76-89488f18679d"
      },
      "outputs": [
        {
          "output_type": "execute_result",
          "data": {
            "text/plain": [
              "[0.0]"
            ]
          },
          "metadata": {},
          "execution_count": 26
        }
      ],
      "source": [
        "f1_scores "
      ]
    },
    {
      "cell_type": "markdown",
      "id": "abff86b1",
      "metadata": {
        "id": "abff86b1"
      },
      "source": [
        "##### - Stratified K-Fold Cross Validation"
      ]
    },
    {
      "cell_type": "code",
      "execution_count": 40,
      "id": "468494d4",
      "metadata": {
        "colab": {
          "base_uri": "https://localhost:8080/"
        },
        "id": "468494d4",
        "outputId": "77b70de9-8a9c-4f1d-d0aa-5e70bfaed131"
      },
      "outputs": [
        {
          "output_type": "execute_result",
          "data": {
            "text/plain": [
              "[0.6299212598425196,\n",
              " 0.5660377358490565,\n",
              " 0.6178861788617885,\n",
              " 0.5825242718446602,\n",
              " 0.5510204081632653]"
            ]
          },
          "metadata": {},
          "execution_count": 40
        }
      ],
      "source": [
        "from sklearn.model_selection import StratifiedKFold\n",
        "skf = StratifiedKFold(n_splits=5, shuffle=True, random_state=1)\n",
        "f1_scores = []\n",
        "#run for every split\n",
        "for train_index, test_index in skf.split(normalised_train_df, y_balanced):\n",
        "    x_train, x_test = np.array(normalised_train_df)[train_index],np.array(normalised_train_df)[test_index]\n",
        "    y_train, y_test = y_balanced[train_index], y_balanced[test_index]\n",
        "    model = LogisticRegression().fit(x_train, y_train)\n",
        "#save result to list\n",
        "    f1_scores.append(f1_score(y_true=y_test, y_pred=model.predict(x_test), pos_label='2A'))\n",
        "f1_scores"
      ]
    },
    {
      "cell_type": "code",
      "execution_count": 28,
      "id": "3da40a80",
      "metadata": {
        "id": "3da40a80"
      },
      "outputs": [],
      "source": [
        "# x_train, x_test, y_train, y_test, f1_scores "
      ]
    },
    {
      "cell_type": "markdown",
      "id": "dc44e4d4",
      "metadata": {
        "id": "dc44e4d4"
      },
      "source": [
        "##### - Leave One Out Cross Validation (LOOCV)"
      ]
    },
    {
      "cell_type": "code",
      "execution_count": 29,
      "id": "36cc2b84",
      "metadata": {
        "colab": {
          "base_uri": "https://localhost:8080/"
        },
        "id": "36cc2b84",
        "outputId": "d3fae3c6-079b-4713-8907-959160fbec3d"
      },
      "outputs": [
        {
          "output_type": "execute_result",
          "data": {
            "text/plain": [
              "53.68852459016394"
            ]
          },
          "metadata": {},
          "execution_count": 29
        }
      ],
      "source": [
        "from sklearn.model_selection import LeaveOneOut\n",
        "loo = LeaveOneOut()\n",
        "scores = cross_val_score(LogisticRegression(), normalised_train_df, y_balanced, cv=loo,scoring='f1_macro')\n",
        "average_score = scores.mean() * 100\n",
        "average_score"
      ]
    },
    {
      "cell_type": "markdown",
      "id": "b2415f9a",
      "metadata": {
        "id": "b2415f9a"
      },
      "source": [
        "##### - Confusion Matrix"
      ]
    },
    {
      "cell_type": "code",
      "execution_count": 61,
      "id": "2cc9b6cf",
      "metadata": {
        "scrolled": true,
        "colab": {
          "base_uri": "https://localhost:8080/"
        },
        "id": "2cc9b6cf",
        "outputId": "7b9e5606-9dc5-468d-b9a4-8e8b3bef00cc"
      },
      "outputs": [
        {
          "output_type": "stream",
          "name": "stderr",
          "text": [
            "/usr/local/lib/python3.8/dist-packages/sklearn/base.py:420: UserWarning: X does not have valid feature names, but LogisticRegression was fitted with feature names\n",
            "  warnings.warn(\n"
          ]
        },
        {
          "output_type": "execute_result",
          "data": {
            "text/plain": [
              "array([[27, 22],\n",
              "       [22, 26]])"
            ]
          },
          "metadata": {},
          "execution_count": 61
        }
      ],
      "source": [
        "from sklearn.metrics import recall_score, accuracy_score, precision_score, f1_score, confusion_matrix\n",
        "new_predictions = log_reg.predict(x_test)\n",
        "cnf_mat = confusion_matrix(y_true=y_test, y_pred=new_predictions, labels=['2A','3A'])\n",
        "cnf_mat #prints array([[ 35, 34],[ 50, 58]])"
      ]
    },
    {
      "cell_type": "markdown",
      "id": "109c7a74",
      "metadata": {
        "id": "109c7a74"
      },
      "source": [
        "##### - Accuracy"
      ]
    },
    {
      "cell_type": "code",
      "execution_count": 62,
      "id": "0b75d8df",
      "metadata": {
        "colab": {
          "base_uri": "https://localhost:8080/"
        },
        "id": "0b75d8df",
        "outputId": "9decd31e-0545-4250-9a49-d17830097102"
      },
      "outputs": [
        {
          "output_type": "stream",
          "name": "stdout",
          "text": [
            "Accuracy: 55\n"
          ]
        }
      ],
      "source": [
        "accuracy = accuracy_score(y_true=y_test, y_pred=new_predictions)\n",
        "print('Accuracy: {}'.format(round(accuracy*100), 2)) #prints 53.0"
      ]
    },
    {
      "cell_type": "markdown",
      "id": "4f0f63ac",
      "metadata": {
        "id": "4f0f63ac"
      },
      "source": [
        "##### - Precision"
      ]
    },
    {
      "cell_type": "code",
      "execution_count": 63,
      "id": "8717e6ee",
      "metadata": {
        "colab": {
          "base_uri": "https://localhost:8080/"
        },
        "id": "8717e6ee",
        "outputId": "7b25f576-0a20-4382-ea3c-4b236ac7dc05"
      },
      "outputs": [
        {
          "output_type": "stream",
          "name": "stdout",
          "text": [
            "Precision: 55\n"
          ]
        }
      ],
      "source": [
        "precision = precision_score(y_true=y_test, y_pred=new_predictions, pos_label='2A')\n",
        "print('Precision: {}'.format(round(precision*100), 2)) #prints 41.0\n"
      ]
    },
    {
      "cell_type": "markdown",
      "id": "f4d1617d",
      "metadata": {
        "id": "f4d1617d"
      },
      "source": [
        "##### - Recall"
      ]
    },
    {
      "cell_type": "code",
      "execution_count": 64,
      "id": "149fb3cb",
      "metadata": {
        "colab": {
          "base_uri": "https://localhost:8080/"
        },
        "id": "149fb3cb",
        "outputId": "9d8334e3-c3c7-46f3-c40f-37fc8b865857"
      },
      "outputs": [
        {
          "output_type": "stream",
          "name": "stdout",
          "text": [
            "Recall: 55\n"
          ]
        }
      ],
      "source": [
        "recall = recall_score(y_true=y_test, y_pred=new_predictions, pos_label='2A')\n",
        "print('Recall: {}'.format(round(recall*100), 2)) #prints 51.0\n"
      ]
    },
    {
      "cell_type": "markdown",
      "id": "fde91fe6",
      "metadata": {
        "id": "fde91fe6"
      },
      "source": [
        "##### - F1-Score"
      ]
    },
    {
      "cell_type": "code",
      "execution_count": 65,
      "id": "117806ac",
      "metadata": {
        "colab": {
          "base_uri": "https://localhost:8080/"
        },
        "id": "117806ac",
        "outputId": "f16efb82-7b71-4e47-c4de-51b1e78b8cf9"
      },
      "outputs": [
        {
          "output_type": "stream",
          "name": "stdout",
          "text": [
            "F1: 55\n"
          ]
        }
      ],
      "source": [
        "f1 = f1_score(y_true=y_test, y_pred=new_predictions, pos_label='2A')\n",
        "print('F1: {}'.format(round(f1*100), 2)) #prints 45.0"
      ]
    },
    {
      "cell_type": "markdown",
      "id": "ed3cde22",
      "metadata": {
        "id": "ed3cde22"
      },
      "source": [
        "### Tree-Based Methods and The Support Vector Machine"
      ]
    },
    {
      "cell_type": "code",
      "execution_count": 66,
      "id": "15ed6760",
      "metadata": {
        "colab": {
          "base_uri": "https://localhost:8080/",
          "height": 75
        },
        "id": "15ed6760",
        "outputId": "fc333d3b-6b66-4a71-bbe7-5bc2c5834ce8"
      },
      "outputs": [
        {
          "output_type": "execute_result",
          "data": {
            "text/plain": [
              "DecisionTreeClassifier()"
            ],
            "text/html": [
              "<style>#sk-container-id-2 {color: black;background-color: white;}#sk-container-id-2 pre{padding: 0;}#sk-container-id-2 div.sk-toggleable {background-color: white;}#sk-container-id-2 label.sk-toggleable__label {cursor: pointer;display: block;width: 100%;margin-bottom: 0;padding: 0.3em;box-sizing: border-box;text-align: center;}#sk-container-id-2 label.sk-toggleable__label-arrow:before {content: \"▸\";float: left;margin-right: 0.25em;color: #696969;}#sk-container-id-2 label.sk-toggleable__label-arrow:hover:before {color: black;}#sk-container-id-2 div.sk-estimator:hover label.sk-toggleable__label-arrow:before {color: black;}#sk-container-id-2 div.sk-toggleable__content {max-height: 0;max-width: 0;overflow: hidden;text-align: left;background-color: #f0f8ff;}#sk-container-id-2 div.sk-toggleable__content pre {margin: 0.2em;color: black;border-radius: 0.25em;background-color: #f0f8ff;}#sk-container-id-2 input.sk-toggleable__control:checked~div.sk-toggleable__content {max-height: 200px;max-width: 100%;overflow: auto;}#sk-container-id-2 input.sk-toggleable__control:checked~label.sk-toggleable__label-arrow:before {content: \"▾\";}#sk-container-id-2 div.sk-estimator input.sk-toggleable__control:checked~label.sk-toggleable__label {background-color: #d4ebff;}#sk-container-id-2 div.sk-label input.sk-toggleable__control:checked~label.sk-toggleable__label {background-color: #d4ebff;}#sk-container-id-2 input.sk-hidden--visually {border: 0;clip: rect(1px 1px 1px 1px);clip: rect(1px, 1px, 1px, 1px);height: 1px;margin: -1px;overflow: hidden;padding: 0;position: absolute;width: 1px;}#sk-container-id-2 div.sk-estimator {font-family: monospace;background-color: #f0f8ff;border: 1px dotted black;border-radius: 0.25em;box-sizing: border-box;margin-bottom: 0.5em;}#sk-container-id-2 div.sk-estimator:hover {background-color: #d4ebff;}#sk-container-id-2 div.sk-parallel-item::after {content: \"\";width: 100%;border-bottom: 1px solid gray;flex-grow: 1;}#sk-container-id-2 div.sk-label:hover label.sk-toggleable__label {background-color: #d4ebff;}#sk-container-id-2 div.sk-serial::before {content: \"\";position: absolute;border-left: 1px solid gray;box-sizing: border-box;top: 0;bottom: 0;left: 50%;z-index: 0;}#sk-container-id-2 div.sk-serial {display: flex;flex-direction: column;align-items: center;background-color: white;padding-right: 0.2em;padding-left: 0.2em;position: relative;}#sk-container-id-2 div.sk-item {position: relative;z-index: 1;}#sk-container-id-2 div.sk-parallel {display: flex;align-items: stretch;justify-content: center;background-color: white;position: relative;}#sk-container-id-2 div.sk-item::before, #sk-container-id-2 div.sk-parallel-item::before {content: \"\";position: absolute;border-left: 1px solid gray;box-sizing: border-box;top: 0;bottom: 0;left: 50%;z-index: -1;}#sk-container-id-2 div.sk-parallel-item {display: flex;flex-direction: column;z-index: 1;position: relative;background-color: white;}#sk-container-id-2 div.sk-parallel-item:first-child::after {align-self: flex-end;width: 50%;}#sk-container-id-2 div.sk-parallel-item:last-child::after {align-self: flex-start;width: 50%;}#sk-container-id-2 div.sk-parallel-item:only-child::after {width: 0;}#sk-container-id-2 div.sk-dashed-wrapped {border: 1px dashed gray;margin: 0 0.4em 0.5em 0.4em;box-sizing: border-box;padding-bottom: 0.4em;background-color: white;}#sk-container-id-2 div.sk-label label {font-family: monospace;font-weight: bold;display: inline-block;line-height: 1.2em;}#sk-container-id-2 div.sk-label-container {text-align: center;}#sk-container-id-2 div.sk-container {/* jupyter's `normalize.less` sets `[hidden] { display: none; }` but bootstrap.min.css set `[hidden] { display: none !important; }` so we also need the `!important` here to be able to override the default hidden behavior on the sphinx rendered scikit-learn.org. See: https://github.com/scikit-learn/scikit-learn/issues/21755 */display: inline-block !important;position: relative;}#sk-container-id-2 div.sk-text-repr-fallback {display: none;}</style><div id=\"sk-container-id-2\" class=\"sk-top-container\"><div class=\"sk-text-repr-fallback\"><pre>DecisionTreeClassifier()</pre><b>In a Jupyter environment, please rerun this cell to show the HTML representation or trust the notebook. <br />On GitHub, the HTML representation is unable to render, please try loading this page with nbviewer.org.</b></div><div class=\"sk-container\" hidden><div class=\"sk-item\"><div class=\"sk-estimator sk-toggleable\"><input class=\"sk-toggleable__control sk-hidden--visually\" id=\"sk-estimator-id-2\" type=\"checkbox\" checked><label for=\"sk-estimator-id-2\" class=\"sk-toggleable__label sk-toggleable__label-arrow\">DecisionTreeClassifier</label><div class=\"sk-toggleable__content\"><pre>DecisionTreeClassifier()</pre></div></div></div></div></div>"
            ]
          },
          "metadata": {},
          "execution_count": 66
        }
      ],
      "source": [
        "from sklearn.tree import DecisionTreeClassifier\n",
        "dec_tree = DecisionTreeClassifier()\n",
        "dec_tree.fit(normalised_train_df, y_balanced)"
      ]
    },
    {
      "cell_type": "code",
      "execution_count": 66,
      "id": "4d041bfc",
      "metadata": {
        "id": "4d041bfc"
      },
      "outputs": [],
      "source": []
    }
  ],
  "metadata": {
    "kernelspec": {
      "display_name": "Python 3 (ipykernel)",
      "language": "python",
      "name": "python3"
    },
    "language_info": {
      "codemirror_mode": {
        "name": "ipython",
        "version": 3
      },
      "file_extension": ".py",
      "mimetype": "text/x-python",
      "name": "python",
      "nbconvert_exporter": "python",
      "pygments_lexer": "ipython3",
      "version": "3.9.13"
    },
    "colab": {
      "provenance": [],
      "include_colab_link": true
    }
  },
  "nbformat": 4,
  "nbformat_minor": 5
}